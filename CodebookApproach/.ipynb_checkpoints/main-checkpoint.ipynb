{
 "cells": [
  {
   "cell_type": "code",
   "execution_count": 1,
   "metadata": {},
   "outputs": [
    {
     "name": "stderr",
     "output_type": "stream",
     "text": [
      "/Users/ezgidaldal/anaconda3/lib/python3.6/site-packages/sklearn/ensemble/weight_boosting.py:29: DeprecationWarning: numpy.core.umath_tests is an internal NumPy module and should not be imported. It will be removed in a future NumPy release.\n",
      "  from numpy.core.umath_tests import inner1d\n"
     ]
    },
    {
     "data": {
      "text/plain": [
       "<matplotlib.figure.Figure at 0x11ba26ef0>"
      ]
     },
     "metadata": {},
     "output_type": "display_data"
    },
    {
     "name": "stdout",
     "output_type": "stream",
     "text": [
      "             precision    recall  f1-score   support\n",
      "\n",
      "    Bending       1.00      0.87      0.93        52\n",
      "      Lying       0.86      0.83      0.84        46\n",
      "    Sitting       0.78      0.83      0.80        46\n",
      "  Squatting       0.88      0.86      0.87        43\n",
      "   Standing       0.87      1.00      0.93        46\n",
      "    Walking       1.00      1.00      1.00        42\n",
      "\n",
      "avg / total       0.90      0.89      0.89       275\n",
      "\n"
     ]
    }
   ],
   "source": [
    "from Constants import *\n",
    "from DataSetLoader import *\n",
    "from CodebookApproach import *\n",
    "from Classifier import *\n",
    "\n",
    "\n",
    "#1\n",
    "X_train, y_train, X_test, y_test = load_dataset(c_activity_category, c_sensors)\n",
    "\n",
    "#2\n",
    "X_train_trd = transpose_dataset(X_train)\n",
    "X_test_trd = transpose_dataset(X_test)\n",
    "\n",
    "\n",
    "ca = CodebookApproach(c_window_length, c_overlap_length, c_cluster_number)\n",
    "\n",
    "#3\n",
    "X_train_ws, X_train_wc = ca.extract_subsequences(X_train_trd)\n",
    "X_test_ws, X_test_wc = ca.extract_subsequences(X_test_trd)\n",
    "\n",
    "#4\n",
    "codebooks = ca.get_codebooks(X_train_wc)\n",
    "\n",
    "#5\n",
    "X_train_histograms = ca.assign_codewords(codebooks, X_train_ws)\n",
    "X_test_histograms = ca.assign_codewords(codebooks, X_test_ws)\n",
    "\n",
    "#6\n",
    "X_train = ca.concatenate_histograms(X_train_histograms)\n",
    "X_test = ca.concatenate_histograms(X_test_histograms)\n",
    "\n",
    "#7\n",
    "cl = Classifier(X_train, y_train, X_test, y_test)\n",
    "y_pred = cl.svc()\n",
    "cl.plot_confusion_matrix(y_pred)\n",
    "\n",
    "#8\n",
    "y_pred = cl.rfc()\n",
    "cl.plot_confusion_matrix(y_pred)"
   ]
  },
  {
   "cell_type": "code",
   "execution_count": 4,
   "metadata": {},
   "outputs": [
    {
     "data": {
      "image/png": "[encoded data removed]",
      "text/plain": [
       "<matplotlib.figure.Figure at 0x1a248e5780>"
      ]
     },
     "metadata": {},
     "output_type": "display_data"
    },
    {
     "name": "stdout",
     "output_type": "stream",
     "text": [
      "             precision    recall  f1-score   support\n",
      "\n",
      "    Bending       0.93      0.83      0.88        52\n",
      "      Lying       0.73      0.83      0.78        46\n",
      "    Sitting       0.77      0.65      0.71        46\n",
      "  Squatting       0.70      0.72      0.71        43\n",
      "   Standing       0.83      0.93      0.88        46\n",
      "    Walking       1.00      1.00      1.00        42\n",
      "\n",
      "avg / total       0.83      0.83      0.82       275\n",
      "\n"
     ]
    }
   ],
   "source": [
    "#7\n",
    "cl = Classifier(X_train, y_train, X_test, y_test)\n",
    "#y_pred = cl.svc()\n",
    "#cl.plot_confusion_matrix(y_pred)\n",
    "\n",
    "#best_params = cl.select_rfc_params(10)\n",
    "#y_pred = cl.rfc(best_params)\n",
    "\n",
    "y_pred = cl.rfcc()\n",
    "cl.plot_confusion_matrix(y_pred)"
   ]
  },
  {
   "cell_type": "code",
   "execution_count": 14,
   "metadata": {},
   "outputs": [
    {
     "data": {
      "text/plain": [
       "(5, 6)"
      ]
     },
     "execution_count": 14,
     "metadata": {},
     "output_type": "execute_result"
    }
   ],
   "source": [
    "c=5\n",
    "d=6\n",
    "a = ()\n",
    "a= a + (c,)\n",
    "a = a + (d,)\n",
    "a"
   ]
  },
  {
   "cell_type": "code",
   "execution_count": null,
   "metadata": {},
   "outputs": [],
   "source": []
  }
 ],
 "metadata": {
  "kernelspec": {
   "display_name": "Python 3",
   "language": "python",
   "name": "python3"
  },
  "language_info": {
   "codemirror_mode": {
    "name": "ipython",
    "version": 3
   },
   "file_extension": ".py",
   "mimetype": "text/x-python",
   "name": "python",
   "nbconvert_exporter": "python",
   "pygments_lexer": "ipython3",
   "version": "3.6.4"
  }
 },
 "nbformat": 4,
 "nbformat_minor": 2
}
